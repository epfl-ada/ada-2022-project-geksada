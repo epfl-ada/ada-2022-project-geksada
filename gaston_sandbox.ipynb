{
 "cells": [
  {
   "cell_type": "code",
   "execution_count": 1,
   "metadata": {},
   "outputs": [],
   "source": [
    "import pandas as pd\n",
    "import matplotlib.pyplot as plt\n",
    "import sys\n",
    "from datetime import datetime\n",
    "import seaborn as sns"
   ]
  },
  {
   "cell_type": "code",
   "execution_count": 2,
   "metadata": {},
   "outputs": [
    {
     "data": {
      "text/html": [
       "<div>\n",
       "<style scoped>\n",
       "    .dataframe tbody tr th:only-of-type {\n",
       "        vertical-align: middle;\n",
       "    }\n",
       "\n",
       "    .dataframe tbody tr th {\n",
       "        vertical-align: top;\n",
       "    }\n",
       "\n",
       "    .dataframe thead th {\n",
       "        text-align: right;\n",
       "    }\n",
       "</style>\n",
       "<table border=\"1\" class=\"dataframe\">\n",
       "  <thead>\n",
       "    <tr style=\"text-align: right;\">\n",
       "      <th></th>\n",
       "      <th>categories</th>\n",
       "      <th>channel_id</th>\n",
       "      <th>dislike_count</th>\n",
       "      <th>duration</th>\n",
       "      <th>like_count</th>\n",
       "      <th>tags</th>\n",
       "      <th>upload_date</th>\n",
       "      <th>view_count</th>\n",
       "      <th>video_id</th>\n",
       "    </tr>\n",
       "  </thead>\n",
       "  <tbody>\n",
       "    <tr>\n",
       "      <th>0</th>\n",
       "      <td>Gaming</td>\n",
       "      <td>UCzWrhkg9eK5I8Bm3HfV-unA</td>\n",
       "      <td>11423.0</td>\n",
       "      <td>1762</td>\n",
       "      <td>29891.0</td>\n",
       "      <td>lego city police for kids,lego polizi,lego mov...</td>\n",
       "      <td>2017-12-08 00:00:00</td>\n",
       "      <td>23152662.0</td>\n",
       "      <td>mp9gt45aHxY</td>\n",
       "    </tr>\n",
       "    <tr>\n",
       "      <th>1</th>\n",
       "      <td>Gaming</td>\n",
       "      <td>UCzWrhkg9eK5I8Bm3HfV-unA</td>\n",
       "      <td>1561.0</td>\n",
       "      <td>1146</td>\n",
       "      <td>6118.0</td>\n",
       "      <td>lego dinosaurs,lego jurassic world,lego dinosa...</td>\n",
       "      <td>2017-12-07 00:00:00</td>\n",
       "      <td>4028426.0</td>\n",
       "      <td>hn2zYwqSINY</td>\n",
       "    </tr>\n",
       "    <tr>\n",
       "      <th>2</th>\n",
       "      <td>Gaming</td>\n",
       "      <td>UCzWrhkg9eK5I8Bm3HfV-unA</td>\n",
       "      <td>206.0</td>\n",
       "      <td>1706</td>\n",
       "      <td>2235.0</td>\n",
       "      <td>lego marvel super heroes 2,lego super heroes 2...</td>\n",
       "      <td>2017-11-18 00:00:00</td>\n",
       "      <td>585746.0</td>\n",
       "      <td>UTZLSHaE4Sw</td>\n",
       "    </tr>\n",
       "    <tr>\n",
       "      <th>3</th>\n",
       "      <td>Gaming</td>\n",
       "      <td>UCzWrhkg9eK5I8Bm3HfV-unA</td>\n",
       "      <td>799.0</td>\n",
       "      <td>2146</td>\n",
       "      <td>2501.0</td>\n",
       "      <td>lego dinosaurs,lego jurassic world,lego t-rex,...</td>\n",
       "      <td>2017-02-21 00:00:00</td>\n",
       "      <td>1547805.0</td>\n",
       "      <td>SWZG-ba1qDk</td>\n",
       "    </tr>\n",
       "    <tr>\n",
       "      <th>4</th>\n",
       "      <td>Film &amp; Animation</td>\n",
       "      <td>UCzWrhkg9eK5I8Bm3HfV-unA</td>\n",
       "      <td>2548.0</td>\n",
       "      <td>2196</td>\n",
       "      <td>8780.0</td>\n",
       "      <td>lego batman movie,the batman movie,new batman ...</td>\n",
       "      <td>2017-02-13 00:00:00</td>\n",
       "      <td>6674760.0</td>\n",
       "      <td>3vQK78eUg2A</td>\n",
       "    </tr>\n",
       "  </tbody>\n",
       "</table>\n",
       "</div>"
      ],
      "text/plain": [
       "         categories                channel_id  dislike_count  duration  \\\n",
       "0            Gaming  UCzWrhkg9eK5I8Bm3HfV-unA        11423.0      1762   \n",
       "1            Gaming  UCzWrhkg9eK5I8Bm3HfV-unA         1561.0      1146   \n",
       "2            Gaming  UCzWrhkg9eK5I8Bm3HfV-unA          206.0      1706   \n",
       "3            Gaming  UCzWrhkg9eK5I8Bm3HfV-unA          799.0      2146   \n",
       "4  Film & Animation  UCzWrhkg9eK5I8Bm3HfV-unA         2548.0      2196   \n",
       "\n",
       "   like_count                                               tags  \\\n",
       "0     29891.0  lego city police for kids,lego polizi,lego mov...   \n",
       "1      6118.0  lego dinosaurs,lego jurassic world,lego dinosa...   \n",
       "2      2235.0  lego marvel super heroes 2,lego super heroes 2...   \n",
       "3      2501.0  lego dinosaurs,lego jurassic world,lego t-rex,...   \n",
       "4      8780.0  lego batman movie,the batman movie,new batman ...   \n",
       "\n",
       "           upload_date  view_count     video_id  \n",
       "0  2017-12-08 00:00:00  23152662.0  mp9gt45aHxY  \n",
       "1  2017-12-07 00:00:00   4028426.0  hn2zYwqSINY  \n",
       "2  2017-11-18 00:00:00    585746.0  UTZLSHaE4Sw  \n",
       "3  2017-02-21 00:00:00   1547805.0  SWZG-ba1qDk  \n",
       "4  2017-02-13 00:00:00   6674760.0  3vQK78eUg2A  "
      ]
     },
     "execution_count": 2,
     "metadata": {},
     "output_type": "execute_result"
    }
   ],
   "source": [
    "video_metadata = pd.read_feather('video_metadata.feather')\n",
    "video_metadata = video_metadata[:1000000] # keep only a slice for testing\n",
    "video_metadata.head()"
   ]
  },
  {
   "cell_type": "code",
   "execution_count": 3,
   "metadata": {},
   "outputs": [],
   "source": [
    "video_metadata['upload_date'] = pd.to_datetime(video_metadata['upload_date'])"
   ]
  },
  {
   "cell_type": "code",
   "execution_count": 4,
   "metadata": {},
   "outputs": [
    {
     "data": {
      "text/html": [
       "<div>\n",
       "<style scoped>\n",
       "    .dataframe tbody tr th:only-of-type {\n",
       "        vertical-align: middle;\n",
       "    }\n",
       "\n",
       "    .dataframe tbody tr th {\n",
       "        vertical-align: top;\n",
       "    }\n",
       "\n",
       "    .dataframe thead th {\n",
       "        text-align: right;\n",
       "    }\n",
       "</style>\n",
       "<table border=\"1\" class=\"dataframe\">\n",
       "  <thead>\n",
       "    <tr style=\"text-align: right;\">\n",
       "      <th></th>\n",
       "      <th>categories</th>\n",
       "      <th>channel_id</th>\n",
       "      <th>dislike_count</th>\n",
       "      <th>duration</th>\n",
       "      <th>like_count</th>\n",
       "      <th>tags</th>\n",
       "      <th>upload_date</th>\n",
       "      <th>view_count</th>\n",
       "      <th>video_id</th>\n",
       "    </tr>\n",
       "  </thead>\n",
       "  <tbody>\n",
       "    <tr>\n",
       "      <th>0</th>\n",
       "      <td>Gaming</td>\n",
       "      <td>UCzWrhkg9eK5I8Bm3HfV-unA</td>\n",
       "      <td>11423.0</td>\n",
       "      <td>1762</td>\n",
       "      <td>29891.0</td>\n",
       "      <td>lego city police for kids,lego polizi,lego mov...</td>\n",
       "      <td>2017-12-08</td>\n",
       "      <td>23152662.0</td>\n",
       "      <td>mp9gt45aHxY</td>\n",
       "    </tr>\n",
       "    <tr>\n",
       "      <th>1</th>\n",
       "      <td>Gaming</td>\n",
       "      <td>UCzWrhkg9eK5I8Bm3HfV-unA</td>\n",
       "      <td>1561.0</td>\n",
       "      <td>1146</td>\n",
       "      <td>6118.0</td>\n",
       "      <td>lego dinosaurs,lego jurassic world,lego dinosa...</td>\n",
       "      <td>2017-12-07</td>\n",
       "      <td>4028426.0</td>\n",
       "      <td>hn2zYwqSINY</td>\n",
       "    </tr>\n",
       "    <tr>\n",
       "      <th>2</th>\n",
       "      <td>Gaming</td>\n",
       "      <td>UCzWrhkg9eK5I8Bm3HfV-unA</td>\n",
       "      <td>206.0</td>\n",
       "      <td>1706</td>\n",
       "      <td>2235.0</td>\n",
       "      <td>lego marvel super heroes 2,lego super heroes 2...</td>\n",
       "      <td>2017-11-18</td>\n",
       "      <td>585746.0</td>\n",
       "      <td>UTZLSHaE4Sw</td>\n",
       "    </tr>\n",
       "    <tr>\n",
       "      <th>3</th>\n",
       "      <td>Gaming</td>\n",
       "      <td>UCzWrhkg9eK5I8Bm3HfV-unA</td>\n",
       "      <td>799.0</td>\n",
       "      <td>2146</td>\n",
       "      <td>2501.0</td>\n",
       "      <td>lego dinosaurs,lego jurassic world,lego t-rex,...</td>\n",
       "      <td>2017-02-21</td>\n",
       "      <td>1547805.0</td>\n",
       "      <td>SWZG-ba1qDk</td>\n",
       "    </tr>\n",
       "    <tr>\n",
       "      <th>4</th>\n",
       "      <td>Film &amp; Animation</td>\n",
       "      <td>UCzWrhkg9eK5I8Bm3HfV-unA</td>\n",
       "      <td>2548.0</td>\n",
       "      <td>2196</td>\n",
       "      <td>8780.0</td>\n",
       "      <td>lego batman movie,the batman movie,new batman ...</td>\n",
       "      <td>2017-02-13</td>\n",
       "      <td>6674760.0</td>\n",
       "      <td>3vQK78eUg2A</td>\n",
       "    </tr>\n",
       "  </tbody>\n",
       "</table>\n",
       "</div>"
      ],
      "text/plain": [
       "         categories                channel_id  dislike_count  duration  \\\n",
       "0            Gaming  UCzWrhkg9eK5I8Bm3HfV-unA        11423.0      1762   \n",
       "1            Gaming  UCzWrhkg9eK5I8Bm3HfV-unA         1561.0      1146   \n",
       "2            Gaming  UCzWrhkg9eK5I8Bm3HfV-unA          206.0      1706   \n",
       "3            Gaming  UCzWrhkg9eK5I8Bm3HfV-unA          799.0      2146   \n",
       "4  Film & Animation  UCzWrhkg9eK5I8Bm3HfV-unA         2548.0      2196   \n",
       "\n",
       "   like_count                                               tags upload_date  \\\n",
       "0     29891.0  lego city police for kids,lego polizi,lego mov...  2017-12-08   \n",
       "1      6118.0  lego dinosaurs,lego jurassic world,lego dinosa...  2017-12-07   \n",
       "2      2235.0  lego marvel super heroes 2,lego super heroes 2...  2017-11-18   \n",
       "3      2501.0  lego dinosaurs,lego jurassic world,lego t-rex,...  2017-02-21   \n",
       "4      8780.0  lego batman movie,the batman movie,new batman ...  2017-02-13   \n",
       "\n",
       "   view_count     video_id  \n",
       "0  23152662.0  mp9gt45aHxY  \n",
       "1   4028426.0  hn2zYwqSINY  \n",
       "2    585746.0  UTZLSHaE4Sw  \n",
       "3   1547805.0  SWZG-ba1qDk  \n",
       "4   6674760.0  3vQK78eUg2A  "
      ]
     },
     "execution_count": 4,
     "metadata": {},
     "output_type": "execute_result"
    }
   ],
   "source": [
    "video_metadata.head()"
   ]
  },
  {
   "cell_type": "markdown",
   "metadata": {
    "id": "l8Wo2x9HnD9_"
   },
   "source": [
    "### Data filtering"
   ]
  },
  {
   "cell_type": "markdown",
   "metadata": {},
   "source": [
    "Explain: artistic video category do not exist => so we made ours\n",
    "=> explain how with dictionnaries"
   ]
  },
  {
   "cell_type": "code",
   "execution_count": 5,
   "metadata": {
    "colab": {
     "base_uri": "https://localhost:8080/"
    },
    "id": "3ecgiHbRnD-B",
    "outputId": "86f3c014-06dd-4e74-b8bd-fb614d549d12"
   },
   "outputs": [],
   "source": [
    "# Formatting the tags column in order to do exact word matching\n",
    "df_videos = video_metadata\n",
    "df_videos['tags'] = df_videos['tags'].apply(str.lower)\n",
    "df_videos['tags'] = df_videos['tags'].apply(str.replace, args=(';',' ',))\n",
    "df_videos['tags'] = df_videos['tags'].apply(str.replace, args=(',',' ',))\n",
    "df_videos['tags'] = df_videos['tags'].apply(str.replace, args=('(',' ',))\n",
    "df_videos['tags'] = df_videos['tags'].apply(str.replace, args=(')',' ',))\n",
    "df_videos['tags'] = df_videos['tags'].apply(str.replace, args=('&',' ',))\n",
    "df_videos['tags'] = df_videos['tags'].apply(str.replace, args=('|',' ',))\n",
    "df_videos['tags'] = df_videos['tags'].apply(str.split)"
   ]
  },
  {
   "cell_type": "code",
   "execution_count": 6,
   "metadata": {
    "colab": {
     "base_uri": "https://localhost:8080/",
     "height": 582
    },
    "id": "JH37WLaBnD-G",
    "outputId": "53b64a72-2169-42ce-e4c9-2a572d01f1a1"
   },
   "outputs": [
    {
     "data": {
      "text/html": [
       "<div>\n",
       "<style scoped>\n",
       "    .dataframe tbody tr th:only-of-type {\n",
       "        vertical-align: middle;\n",
       "    }\n",
       "\n",
       "    .dataframe tbody tr th {\n",
       "        vertical-align: top;\n",
       "    }\n",
       "\n",
       "    .dataframe thead th {\n",
       "        text-align: right;\n",
       "    }\n",
       "</style>\n",
       "<table border=\"1\" class=\"dataframe\">\n",
       "  <thead>\n",
       "    <tr style=\"text-align: right;\">\n",
       "      <th></th>\n",
       "      <th>categories</th>\n",
       "      <th>channel_id</th>\n",
       "      <th>dislike_count</th>\n",
       "      <th>duration</th>\n",
       "      <th>like_count</th>\n",
       "      <th>tags</th>\n",
       "      <th>upload_date</th>\n",
       "      <th>view_count</th>\n",
       "      <th>video_id</th>\n",
       "    </tr>\n",
       "  </thead>\n",
       "  <tbody>\n",
       "    <tr>\n",
       "      <th>0</th>\n",
       "      <td>Gaming</td>\n",
       "      <td>UCzWrhkg9eK5I8Bm3HfV-unA</td>\n",
       "      <td>11423.0</td>\n",
       "      <td>1762</td>\n",
       "      <td>29891.0</td>\n",
       "      <td>[lego, city, police, for, kids, lego, polizi, ...</td>\n",
       "      <td>2017-12-08</td>\n",
       "      <td>23152662.0</td>\n",
       "      <td>mp9gt45aHxY</td>\n",
       "    </tr>\n",
       "    <tr>\n",
       "      <th>1</th>\n",
       "      <td>Gaming</td>\n",
       "      <td>UCzWrhkg9eK5I8Bm3HfV-unA</td>\n",
       "      <td>1561.0</td>\n",
       "      <td>1146</td>\n",
       "      <td>6118.0</td>\n",
       "      <td>[lego, dinosaurs, lego, jurassic, world, lego,...</td>\n",
       "      <td>2017-12-07</td>\n",
       "      <td>4028426.0</td>\n",
       "      <td>hn2zYwqSINY</td>\n",
       "    </tr>\n",
       "    <tr>\n",
       "      <th>2</th>\n",
       "      <td>Gaming</td>\n",
       "      <td>UCzWrhkg9eK5I8Bm3HfV-unA</td>\n",
       "      <td>206.0</td>\n",
       "      <td>1706</td>\n",
       "      <td>2235.0</td>\n",
       "      <td>[lego, marvel, super, heroes, 2, lego, super, ...</td>\n",
       "      <td>2017-11-18</td>\n",
       "      <td>585746.0</td>\n",
       "      <td>UTZLSHaE4Sw</td>\n",
       "    </tr>\n",
       "    <tr>\n",
       "      <th>3</th>\n",
       "      <td>Gaming</td>\n",
       "      <td>UCzWrhkg9eK5I8Bm3HfV-unA</td>\n",
       "      <td>799.0</td>\n",
       "      <td>2146</td>\n",
       "      <td>2501.0</td>\n",
       "      <td>[lego, dinosaurs, lego, jurassic, world, lego,...</td>\n",
       "      <td>2017-02-21</td>\n",
       "      <td>1547805.0</td>\n",
       "      <td>SWZG-ba1qDk</td>\n",
       "    </tr>\n",
       "    <tr>\n",
       "      <th>4</th>\n",
       "      <td>Film &amp; Animation</td>\n",
       "      <td>UCzWrhkg9eK5I8Bm3HfV-unA</td>\n",
       "      <td>2548.0</td>\n",
       "      <td>2196</td>\n",
       "      <td>8780.0</td>\n",
       "      <td>[lego, batman, movie, the, batman, movie, new,...</td>\n",
       "      <td>2017-02-13</td>\n",
       "      <td>6674760.0</td>\n",
       "      <td>3vQK78eUg2A</td>\n",
       "    </tr>\n",
       "  </tbody>\n",
       "</table>\n",
       "</div>"
      ],
      "text/plain": [
       "         categories                channel_id  dislike_count  duration  \\\n",
       "0            Gaming  UCzWrhkg9eK5I8Bm3HfV-unA        11423.0      1762   \n",
       "1            Gaming  UCzWrhkg9eK5I8Bm3HfV-unA         1561.0      1146   \n",
       "2            Gaming  UCzWrhkg9eK5I8Bm3HfV-unA          206.0      1706   \n",
       "3            Gaming  UCzWrhkg9eK5I8Bm3HfV-unA          799.0      2146   \n",
       "4  Film & Animation  UCzWrhkg9eK5I8Bm3HfV-unA         2548.0      2196   \n",
       "\n",
       "   like_count                                               tags upload_date  \\\n",
       "0     29891.0  [lego, city, police, for, kids, lego, polizi, ...  2017-12-08   \n",
       "1      6118.0  [lego, dinosaurs, lego, jurassic, world, lego,...  2017-12-07   \n",
       "2      2235.0  [lego, marvel, super, heroes, 2, lego, super, ...  2017-11-18   \n",
       "3      2501.0  [lego, dinosaurs, lego, jurassic, world, lego,...  2017-02-21   \n",
       "4      8780.0  [lego, batman, movie, the, batman, movie, new,...  2017-02-13   \n",
       "\n",
       "   view_count     video_id  \n",
       "0  23152662.0  mp9gt45aHxY  \n",
       "1   4028426.0  hn2zYwqSINY  \n",
       "2    585746.0  UTZLSHaE4Sw  \n",
       "3   1547805.0  SWZG-ba1qDk  \n",
       "4   6674760.0  3vQK78eUg2A  "
      ]
     },
     "execution_count": 6,
     "metadata": {},
     "output_type": "execute_result"
    }
   ],
   "source": [
    "df_videos.head()"
   ]
  },
  {
   "cell_type": "markdown",
   "metadata": {},
   "source": [
    "Some helper functions"
   ]
  },
  {
   "cell_type": "code",
   "execution_count": 7,
   "metadata": {},
   "outputs": [],
   "source": [
    "def return_word_in_list(tags, word_list):\n",
    "    \n",
    "    # Make sets from the list of words\n",
    "    x = set(tags)\n",
    "    y = set(word_list)\n",
    "    \n",
    "    # Use intersection function of set type to quickly find which word are in both lists/sets\n",
    "    z = x.intersection(y)\n",
    "\n",
    "    return z"
   ]
  },
  {
   "cell_type": "code",
   "execution_count": 8,
   "metadata": {
    "id": "ZsNmVxCmnD-L"
   },
   "outputs": [],
   "source": [
    "def check_tags_in_list(tags, word_list):\n",
    "    word_present = 0\n",
    "    \n",
    "    # Make sets from the list of words\n",
    "    x = set(tags)\n",
    "    y = set(word_list)\n",
    "    \n",
    "    # Use intersection function of set type to quickly find which word are in both lists/sets\n",
    "    z = x.intersection(y)\n",
    "    \n",
    "    # If the intersection is larger than 0, then there is at least a common word between both sets \n",
    "    if len(z) > 0:\n",
    "        word_present = 1\n",
    "    return word_present"
   ]
  },
  {
   "cell_type": "markdown",
   "metadata": {},
   "source": [
    "#### Artistic videos"
   ]
  },
  {
   "cell_type": "code",
   "execution_count": 9,
   "metadata": {
    "colab": {
     "base_uri": "https://localhost:8080/"
    },
    "id": "tpN6LxhvnD-I",
    "outputId": "3e6d8d8a-8d94-4e62-f6e1-a82bb68ad5ee"
   },
   "outputs": [
    {
     "name": "stdout",
     "output_type": "stream",
     "text": [
      "['ceramics' 'draw' 'draw in' 'drawing']\n",
      "['literatures' 'writing' 'text' 'texts']\n",
      "['theatres' 'audience' 'speech' 'spectacle']\n"
     ]
    }
   ],
   "source": [
    "# Art words\n",
    "words_path_visual = \"dictionaries/visual_arts.txt\"\n",
    "words_path_performing = \"dictionaries/performing_art.txt\"\n",
    "words_path_literary = \"dictionaries/literary_art.txt\"\n",
    "\n",
    "visual_arts = pd.read_csv(words_path_visual)\n",
    "literary_arts = pd.read_csv(words_path_literary)\n",
    "performing_arts = pd.read_csv(words_path_performing)\n",
    "\n",
    "visual_words = visual_arts.values\n",
    "literary_words = literary_arts.values\n",
    "performing_words = performing_arts.values\n",
    "\n",
    "visual_words = visual_words.flatten()\n",
    "literary_words = literary_words.flatten()\n",
    "performing_words = performing_words.flatten()\n",
    "\n",
    "\n",
    "# maybe only print samples of each\n",
    "print(visual_words[:4])\n",
    "print(literary_words[:4])\n",
    "print(performing_words[:4])"
   ]
  },
  {
   "cell_type": "code",
   "execution_count": 10,
   "metadata": {
    "id": "z_FPflpwnD-N"
   },
   "outputs": [
    {
     "name": "stderr",
     "output_type": "stream",
     "text": [
      "C:\\Users\\gasto\\AppData\\Local\\Temp\\ipykernel_1100\\1513569392.py:5: SettingWithCopyWarning: \n",
      "A value is trying to be set on a copy of a slice from a DataFrame\n",
      "\n",
      "See the caveats in the documentation: https://pandas.pydata.org/pandas-docs/stable/user_guide/indexing.html#returning-a-view-versus-a-copy\n",
      "  df_videos[\"art\"].loc[(df_videos.visual_art == 1) | (df_videos.literary_art == 1) | (df_videos.performing_art == 1)] = 1\n"
     ]
    }
   ],
   "source": [
    "df_videos['visual_art'] = df_videos['tags'].apply(lambda x : check_tags_in_list(x, visual_words))\n",
    "df_videos['literary_art'] = df_videos['tags'].apply(lambda x : check_tags_in_list(x, literary_words))\n",
    "df_videos['performing_art'] = df_videos['tags'].apply(lambda x : check_tags_in_list(x, performing_words))\n",
    "df_videos[\"art\"] = 0\n",
    "df_videos[\"art\"].loc[(df_videos.visual_art == 1) | (df_videos.literary_art == 1) | (df_videos.performing_art == 1)] = 1"
   ]
  },
  {
   "cell_type": "code",
   "execution_count": 11,
   "metadata": {},
   "outputs": [],
   "source": [
    "df_videos['visual_art_word'] = df_videos['tags'].apply(lambda x : return_word_in_list(x, visual_words))\n",
    "df_videos['literary_art_word'] = df_videos['tags'].apply(lambda x : return_word_in_list(x, literary_words))\n",
    "df_videos['performing_art_word'] = df_videos['tags'].apply(lambda x : return_word_in_list(x, performing_words))"
   ]
  },
  {
   "cell_type": "code",
   "execution_count": 12,
   "metadata": {},
   "outputs": [],
   "source": [
    "df_art = df_videos.loc[df_videos.art == 1]"
   ]
  },
  {
   "cell_type": "code",
   "execution_count": 65,
   "metadata": {},
   "outputs": [],
   "source": [
    "df_art.reset_index(inplace=True, drop=True)"
   ]
  },
  {
   "cell_type": "code",
   "execution_count": 14,
   "metadata": {},
   "outputs": [
    {
     "name": "stderr",
     "output_type": "stream",
     "text": [
      "C:\\Users\\gasto\\AppData\\Local\\Temp\\ipykernel_1100\\3959402358.py:1: SettingWithCopyWarning: \n",
      "A value is trying to be set on a copy of a slice from a DataFrame.\n",
      "Try using .loc[row_indexer,col_indexer] = value instead\n",
      "\n",
      "See the caveats in the documentation: https://pandas.pydata.org/pandas-docs/stable/user_guide/indexing.html#returning-a-view-versus-a-copy\n",
      "  df_art['month_year'] = [datetime(year, month, 1) for year, month in zip(df_art.upload_date.dt.year, df_art.upload_date.dt.month)]\n"
     ]
    }
   ],
   "source": [
    "df_art['month_year'] = [datetime(year, month, 1) for year, month in zip(df_art.upload_date.dt.year, df_art.upload_date.dt.month)]"
   ]
  },
  {
   "cell_type": "code",
   "execution_count": 15,
   "metadata": {},
   "outputs": [],
   "source": [
    "month_years = df_art['month_year'].unique()"
   ]
  },
  {
   "cell_type": "code",
   "execution_count": 60,
   "metadata": {},
   "outputs": [],
   "source": [
    "percentages_visual = []\n",
    "percentages_performing = []\n",
    "percentages_literary = []\n",
    "\n",
    "for month_year in month_years:\n",
    "    total_art_videos = ((df_art['month_year'] == month_year) & (df_art['visual_art'] == 1)).sum() \\\n",
    "    + ((df_art['month_year'] == month_year) & (df_art['performing_art'] == 1)).sum() \\\n",
    "    + ((df_art['month_year'] == month_year) & (df_art['literary_art'] == 1)).sum()\n",
    "\n",
    "    percentages_visual.append(((df_art['month_year'] == month_year) & (df_art['visual_art'] == 1)).sum()/total_art_videos)\n",
    "    percentages_performing.append(((df_art['month_year'] == month_year) & (df_art['performing_art'] == 1)).sum()/total_art_videos)\n",
    "    percentages_literary.append(((df_art['month_year'] == month_year) & (df_art['literary_art'] == 1)).sum()/total_art_videos)\n"
   ]
  },
  {
   "cell_type": "code",
   "execution_count": 61,
   "metadata": {},
   "outputs": [],
   "source": [
    "df_art_time = pd.DataFrame({\n",
    "    'month_year': month_years,\n",
    "    'percentage_visual': percentages_visual,\n",
    "    'percentage_performing': percentages_performing,\n",
    "    'percentage_literary': percentages_literary,\n",
    "})"
   ]
  },
  {
   "cell_type": "code",
   "execution_count": 62,
   "metadata": {},
   "outputs": [
    {
     "data": {
      "text/html": [
       "<div>\n",
       "<style scoped>\n",
       "    .dataframe tbody tr th:only-of-type {\n",
       "        vertical-align: middle;\n",
       "    }\n",
       "\n",
       "    .dataframe tbody tr th {\n",
       "        vertical-align: top;\n",
       "    }\n",
       "\n",
       "    .dataframe thead th {\n",
       "        text-align: right;\n",
       "    }\n",
       "</style>\n",
       "<table border=\"1\" class=\"dataframe\">\n",
       "  <thead>\n",
       "    <tr style=\"text-align: right;\">\n",
       "      <th></th>\n",
       "      <th>month_year</th>\n",
       "      <th>percentage_visual</th>\n",
       "      <th>percentage_performing</th>\n",
       "      <th>percentage_literary</th>\n",
       "    </tr>\n",
       "  </thead>\n",
       "  <tbody>\n",
       "    <tr>\n",
       "      <th>0</th>\n",
       "      <td>2014-12-01</td>\n",
       "      <td>0.312595</td>\n",
       "      <td>0.279211</td>\n",
       "      <td>0.408194</td>\n",
       "    </tr>\n",
       "    <tr>\n",
       "      <th>1</th>\n",
       "      <td>2014-10-01</td>\n",
       "      <td>0.290241</td>\n",
       "      <td>0.357414</td>\n",
       "      <td>0.352345</td>\n",
       "    </tr>\n",
       "    <tr>\n",
       "      <th>2</th>\n",
       "      <td>2014-07-01</td>\n",
       "      <td>0.410872</td>\n",
       "      <td>0.222503</td>\n",
       "      <td>0.366625</td>\n",
       "    </tr>\n",
       "    <tr>\n",
       "      <th>3</th>\n",
       "      <td>2019-09-01</td>\n",
       "      <td>0.283234</td>\n",
       "      <td>0.391369</td>\n",
       "      <td>0.325397</td>\n",
       "    </tr>\n",
       "    <tr>\n",
       "      <th>4</th>\n",
       "      <td>2019-06-01</td>\n",
       "      <td>0.271858</td>\n",
       "      <td>0.438069</td>\n",
       "      <td>0.290073</td>\n",
       "    </tr>\n",
       "  </tbody>\n",
       "</table>\n",
       "</div>"
      ],
      "text/plain": [
       "  month_year  percentage_visual  percentage_performing  percentage_literary\n",
       "0 2014-12-01           0.312595               0.279211             0.408194\n",
       "1 2014-10-01           0.290241               0.357414             0.352345\n",
       "2 2014-07-01           0.410872               0.222503             0.366625\n",
       "3 2019-09-01           0.283234               0.391369             0.325397\n",
       "4 2019-06-01           0.271858               0.438069             0.290073"
      ]
     },
     "execution_count": 62,
     "metadata": {},
     "output_type": "execute_result"
    }
   ],
   "source": [
    "df_art_time.head()"
   ]
  },
  {
   "cell_type": "code",
   "execution_count": 64,
   "metadata": {},
   "outputs": [
    {
     "data": {
      "image/png": "[encoded data removed]",
      "text/plain": [
       "<Figure size 640x480 with 1 Axes>"
      ]
     },
     "metadata": {},
     "output_type": "display_data"
    }
   ],
   "source": [
    "df_art_time.plot.area('month_year', ['percentage_visual', 'percentage_performing', 'percentage_literary'], colormap='PuBu', lw=0)\n",
    "plt.title('Time dependency of the repartition of art domains in youtube videos')\n",
    "plt.ylim([0, 1])\n",
    "plt.ylabel('Proportion of art videos')\n",
    "plt.xlabel('Time')\n",
    "plt.margins(0)\n",
    "plt.show()"
   ]
  },
  {
   "cell_type": "code",
   "execution_count": null,
   "metadata": {},
   "outputs": [],
   "source": []
  }
 ],
 "metadata": {
  "kernelspec": {
   "display_name": "Python 3.10.6 ('ada')",
   "language": "python",
   "name": "python3"
  },
  "language_info": {
   "codemirror_mode": {
    "name": "ipython",
    "version": 3
   },
   "file_extension": ".py",
   "mimetype": "text/x-python",
   "name": "python",
   "nbconvert_exporter": "python",
   "pygments_lexer": "ipython3",
   "version": "3.10.6"
  },
  "orig_nbformat": 4,
  "vscode": {
   "interpreter": {
    "hash": "97db0c6df4c7a8cbba01b62acaa799f28c3d2e725dabb47da6f81a32a81ae439"
   }
  }
 },
 "nbformat": 4,
 "nbformat_minor": 2
}
