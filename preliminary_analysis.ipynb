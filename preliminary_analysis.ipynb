{
  "cells": [
    {
      "cell_type": "markdown",
      "metadata": {
        "id": "wasFb-u2nD9K"
      },
      "source": [
        "# Preliminary analysis"
      ]
    },
    {
      "cell_type": "markdown",
      "metadata": {
        "id": "IbPEYyZ4nD9e"
      },
      "source": [
        "## Useful libraries"
      ]
    },
    {
      "cell_type": "code",
      "execution_count": 1,
      "metadata": {
        "id": "P4xUtWZOnD9o"
      },
      "outputs": [],
      "source": [
        "import matplotlib.font_manager as font_manager\n",
        "from matplotlib.lines import Line2D\n",
        "import matplotlib.ticker as mtick\n",
        "import matplotlib.pyplot as plt\n",
        "import matplotlib as mpl\n",
        "import seaborn as sns\n",
        "import pandas as pd\n",
        "import numpy as np\n",
        "import os\n",
        "import sys\n",
        "import re"
      ]
    },
    {
      "cell_type": "markdown",
      "metadata": {
        "id": "Kmjed449nD9y"
      },
      "source": [
        "## Data importation"
      ]
    },
    {
      "cell_type": "code",
      "execution_count": null,
      "metadata": {
        "id": "yqqHR3IynD90",
        "outputId": "05724e07-d95b-4833-d34d-60e04a7e67d9"
      },
      "outputs": [
        {
          "ename": "SyntaxError",
          "evalue": "(unicode error) 'unicodeescape' codec can't decode bytes in position 2-3: truncated \\UXXXXXXXX escape (2624398762.py, line 1)",
          "output_type": "error",
          "traceback": [
            "\u001b[1;36m  Input \u001b[1;32mIn [4]\u001b[1;36m\u001b[0m\n\u001b[1;33m    datapath = 'C:\\Users\\Kelyan\\OneDrive\\Documents\\GitHub\\ada-2022-project-geksada'\u001b[0m\n\u001b[1;37m                                                                                   ^\u001b[0m\n\u001b[1;31mSyntaxError\u001b[0m\u001b[1;31m:\u001b[0m (unicode error) 'unicodeescape' codec can't decode bytes in position 2-3: truncated \\UXXXXXXXX escape\n"
          ]
        }
      ],
      "source": [
        "datapath = 'C:\\Users\\Kelyan\\OneDrive\\Documents\\GitHub\\ada-2022-project-geksada'\n",
        "yt_meta_path = os.path.join(datapath, \"yt_metadata_en.jsonl.gz\")\n",
        "yt_meta_16_feater = os.path.join(datapath, \"video_metadata2016.feather\")"
      ]
    },
    {
      "cell_type": "code",
      "execution_count": 4,
      "metadata": {
        "id": "2zqza63QnD94"
      },
      "outputs": [],
      "source": [
        "df_meta_16 = pd.read_feather(\"video_metadata2016.feather\")"
      ]
    },
    {
      "cell_type": "code",
      "execution_count": 5,
      "metadata": {
        "colab": {
          "base_uri": "https://localhost:8080/",
          "height": 374
        },
        "id": "d527X51JnD97",
        "outputId": "a93637df-5368-40b2-c555-93f181b7ca39"
      },
      "outputs": [
        {
          "output_type": "stream",
          "name": "stdout",
          "text": [
            "4130410\n"
          ]
        },
        {
          "output_type": "execute_result",
          "data": {
            "text/plain": [
              "   index categories                channel_id                  crawl_date  \\\n",
              "0    185  Education  UCzWrhkg9eK5I8Bm3HfV-unA  2019-10-31 20:19:36.933325   \n",
              "1   2658      Music  UCzWfqsjlvzAOUozsGFR3kbg  2019-10-31 15:42:09.015401   \n",
              "2   3862      Music  UCzWdpFOflXTOk5Gsi2aJ67g  2019-11-13 21:46:41.215349   \n",
              "3   3863      Music  UCzWdpFOflXTOk5Gsi2aJ67g  2019-11-13 21:46:41.849022   \n",
              "4   3864      Music  UCzWdpFOflXTOk5Gsi2aJ67g  2019-11-13 21:46:42.494555   \n",
              "\n",
              "   dislike_count   display_id  duration  like_count  \\\n",
              "0            3.0  jCaqrZ8gSkY       116        11.0   \n",
              "1           28.0  WVapFh7cx3M       142       184.0   \n",
              "2            0.0  Qr8sptZ2vyA       266        25.0   \n",
              "3            8.0  ZA5EW-DKS6M       473       188.0   \n",
              "4            2.0  bXlmyO-iW8g       192        35.0   \n",
              "\n",
              "                                                tags          upload_date  \\\n",
              "0  learn colors,kids colors,colors kids,count to ...  2016-05-03 00:00:00   \n",
              "1  En Av oss,one of us,project,Gutterommet,music,...  2016-06-06 00:00:00   \n",
              "2  Atis Freivalds,Paradox,scary music,dark ambien...  2016-12-27 00:00:00   \n",
              "3  Psionic Asylum,Mental Jail,scary music,horror ...  2016-12-26 00:00:00   \n",
              "4  Clau||M,Dioxin,creepy msuic,epic horror music,...  2016-11-06 00:00:00   \n",
              "\n",
              "   view_count  \n",
              "0      2720.0  \n",
              "1      4360.0  \n",
              "2       697.0  \n",
              "3     10387.0  \n",
              "4      1702.0  "
            ],
            "text/html": [
              "\n",
              "  <div id=\"df-e21c6042-f756-4f22-b7cd-49eac1c1e7c8\">\n",
              "    <div class=\"colab-df-container\">\n",
              "      <div>\n",
              "<style scoped>\n",
              "    .dataframe tbody tr th:only-of-type {\n",
              "        vertical-align: middle;\n",
              "    }\n",
              "\n",
              "    .dataframe tbody tr th {\n",
              "        vertical-align: top;\n",
              "    }\n",
              "\n",
              "    .dataframe thead th {\n",
              "        text-align: right;\n",
              "    }\n",
              "</style>\n",
              "<table border=\"1\" class=\"dataframe\">\n",
              "  <thead>\n",
              "    <tr style=\"text-align: right;\">\n",
              "      <th></th>\n",
              "      <th>index</th>\n",
              "      <th>categories</th>\n",
              "      <th>channel_id</th>\n",
              "      <th>crawl_date</th>\n",
              "      <th>dislike_count</th>\n",
              "      <th>display_id</th>\n",
              "      <th>duration</th>\n",
              "      <th>like_count</th>\n",
              "      <th>tags</th>\n",
              "      <th>upload_date</th>\n",
              "      <th>view_count</th>\n",
              "    </tr>\n",
              "  </thead>\n",
              "  <tbody>\n",
              "    <tr>\n",
              "      <th>0</th>\n",
              "      <td>185</td>\n",
              "      <td>Education</td>\n",
              "      <td>UCzWrhkg9eK5I8Bm3HfV-unA</td>\n",
              "      <td>2019-10-31 20:19:36.933325</td>\n",
              "      <td>3.0</td>\n",
              "      <td>jCaqrZ8gSkY</td>\n",
              "      <td>116</td>\n",
              "      <td>11.0</td>\n",
              "      <td>learn colors,kids colors,colors kids,count to ...</td>\n",
              "      <td>2016-05-03 00:00:00</td>\n",
              "      <td>2720.0</td>\n",
              "    </tr>\n",
              "    <tr>\n",
              "      <th>1</th>\n",
              "      <td>2658</td>\n",
              "      <td>Music</td>\n",
              "      <td>UCzWfqsjlvzAOUozsGFR3kbg</td>\n",
              "      <td>2019-10-31 15:42:09.015401</td>\n",
              "      <td>28.0</td>\n",
              "      <td>WVapFh7cx3M</td>\n",
              "      <td>142</td>\n",
              "      <td>184.0</td>\n",
              "      <td>En Av oss,one of us,project,Gutterommet,music,...</td>\n",
              "      <td>2016-06-06 00:00:00</td>\n",
              "      <td>4360.0</td>\n",
              "    </tr>\n",
              "    <tr>\n",
              "      <th>2</th>\n",
              "      <td>3862</td>\n",
              "      <td>Music</td>\n",
              "      <td>UCzWdpFOflXTOk5Gsi2aJ67g</td>\n",
              "      <td>2019-11-13 21:46:41.215349</td>\n",
              "      <td>0.0</td>\n",
              "      <td>Qr8sptZ2vyA</td>\n",
              "      <td>266</td>\n",
              "      <td>25.0</td>\n",
              "      <td>Atis Freivalds,Paradox,scary music,dark ambien...</td>\n",
              "      <td>2016-12-27 00:00:00</td>\n",
              "      <td>697.0</td>\n",
              "    </tr>\n",
              "    <tr>\n",
              "      <th>3</th>\n",
              "      <td>3863</td>\n",
              "      <td>Music</td>\n",
              "      <td>UCzWdpFOflXTOk5Gsi2aJ67g</td>\n",
              "      <td>2019-11-13 21:46:41.849022</td>\n",
              "      <td>8.0</td>\n",
              "      <td>ZA5EW-DKS6M</td>\n",
              "      <td>473</td>\n",
              "      <td>188.0</td>\n",
              "      <td>Psionic Asylum,Mental Jail,scary music,horror ...</td>\n",
              "      <td>2016-12-26 00:00:00</td>\n",
              "      <td>10387.0</td>\n",
              "    </tr>\n",
              "    <tr>\n",
              "      <th>4</th>\n",
              "      <td>3864</td>\n",
              "      <td>Music</td>\n",
              "      <td>UCzWdpFOflXTOk5Gsi2aJ67g</td>\n",
              "      <td>2019-11-13 21:46:42.494555</td>\n",
              "      <td>2.0</td>\n",
              "      <td>bXlmyO-iW8g</td>\n",
              "      <td>192</td>\n",
              "      <td>35.0</td>\n",
              "      <td>Clau||M,Dioxin,creepy msuic,epic horror music,...</td>\n",
              "      <td>2016-11-06 00:00:00</td>\n",
              "      <td>1702.0</td>\n",
              "    </tr>\n",
              "  </tbody>\n",
              "</table>\n",
              "</div>\n",
              "      <button class=\"colab-df-convert\" onclick=\"convertToInteractive('df-e21c6042-f756-4f22-b7cd-49eac1c1e7c8')\"\n",
              "              title=\"Convert this dataframe to an interactive table.\"\n",
              "              style=\"display:none;\">\n",
              "        \n",
              "  <svg xmlns=\"http://www.w3.org/2000/svg\" height=\"24px\"viewBox=\"0 0 24 24\"\n",
              "       width=\"24px\">\n",
              "    <path d=\"M0 0h24v24H0V0z\" fill=\"none\"/>\n",
              "    <path d=\"M18.56 5.44l.94 2.06.94-2.06 2.06-.94-2.06-.94-.94-2.06-.94 2.06-2.06.94zm-11 1L8.5 8.5l.94-2.06 2.06-.94-2.06-.94L8.5 2.5l-.94 2.06-2.06.94zm10 10l.94 2.06.94-2.06 2.06-.94-2.06-.94-.94-2.06-.94 2.06-2.06.94z\"/><path d=\"M17.41 7.96l-1.37-1.37c-.4-.4-.92-.59-1.43-.59-.52 0-1.04.2-1.43.59L10.3 9.45l-7.72 7.72c-.78.78-.78 2.05 0 2.83L4 21.41c.39.39.9.59 1.41.59.51 0 1.02-.2 1.41-.59l7.78-7.78 2.81-2.81c.8-.78.8-2.07 0-2.86zM5.41 20L4 18.59l7.72-7.72 1.47 1.35L5.41 20z\"/>\n",
              "  </svg>\n",
              "      </button>\n",
              "      \n",
              "  <style>\n",
              "    .colab-df-container {\n",
              "      display:flex;\n",
              "      flex-wrap:wrap;\n",
              "      gap: 12px;\n",
              "    }\n",
              "\n",
              "    .colab-df-convert {\n",
              "      background-color: #E8F0FE;\n",
              "      border: none;\n",
              "      border-radius: 50%;\n",
              "      cursor: pointer;\n",
              "      display: none;\n",
              "      fill: #1967D2;\n",
              "      height: 32px;\n",
              "      padding: 0 0 0 0;\n",
              "      width: 32px;\n",
              "    }\n",
              "\n",
              "    .colab-df-convert:hover {\n",
              "      background-color: #E2EBFA;\n",
              "      box-shadow: 0px 1px 2px rgba(60, 64, 67, 0.3), 0px 1px 3px 1px rgba(60, 64, 67, 0.15);\n",
              "      fill: #174EA6;\n",
              "    }\n",
              "\n",
              "    [theme=dark] .colab-df-convert {\n",
              "      background-color: #3B4455;\n",
              "      fill: #D2E3FC;\n",
              "    }\n",
              "\n",
              "    [theme=dark] .colab-df-convert:hover {\n",
              "      background-color: #434B5C;\n",
              "      box-shadow: 0px 1px 3px 1px rgba(0, 0, 0, 0.15);\n",
              "      filter: drop-shadow(0px 1px 2px rgba(0, 0, 0, 0.3));\n",
              "      fill: #FFFFFF;\n",
              "    }\n",
              "  </style>\n",
              "\n",
              "      <script>\n",
              "        const buttonEl =\n",
              "          document.querySelector('#df-e21c6042-f756-4f22-b7cd-49eac1c1e7c8 button.colab-df-convert');\n",
              "        buttonEl.style.display =\n",
              "          google.colab.kernel.accessAllowed ? 'block' : 'none';\n",
              "\n",
              "        async function convertToInteractive(key) {\n",
              "          const element = document.querySelector('#df-e21c6042-f756-4f22-b7cd-49eac1c1e7c8');\n",
              "          const dataTable =\n",
              "            await google.colab.kernel.invokeFunction('convertToInteractive',\n",
              "                                                     [key], {});\n",
              "          if (!dataTable) return;\n",
              "\n",
              "          const docLinkHtml = 'Like what you see? Visit the ' +\n",
              "            '<a target=\"_blank\" href=https://colab.research.google.com/notebooks/data_table.ipynb>data table notebook</a>'\n",
              "            + ' to learn more about interactive tables.';\n",
              "          element.innerHTML = '';\n",
              "          dataTable['output_type'] = 'display_data';\n",
              "          await google.colab.output.renderOutput(dataTable, element);\n",
              "          const docLink = document.createElement('div');\n",
              "          docLink.innerHTML = docLinkHtml;\n",
              "          element.appendChild(docLink);\n",
              "        }\n",
              "      </script>\n",
              "    </div>\n",
              "  </div>\n",
              "  "
            ]
          },
          "metadata": {},
          "execution_count": 5
        }
      ],
      "source": [
        "print(len(df_meta_16))\n",
        "df_meta_16.head()"
      ]
    },
    {
      "cell_type": "markdown",
      "metadata": {
        "id": "l8Wo2x9HnD9_"
      },
      "source": [
        "## Selecting artistic videos"
      ]
    },
    {
      "cell_type": "code",
      "execution_count": 6,
      "metadata": {
        "colab": {
          "base_uri": "https://localhost:8080/"
        },
        "id": "3ecgiHbRnD-B",
        "outputId": "86f3c014-06dd-4e74-b8bd-fb614d549d12"
      },
      "outputs": [
        {
          "output_type": "stream",
          "name": "stderr",
          "text": [
            "/usr/local/lib/python3.7/dist-packages/ipykernel_launcher.py:3: SettingWithCopyWarning: \n",
            "A value is trying to be set on a copy of a slice from a DataFrame.\n",
            "Try using .loc[row_indexer,col_indexer] = value instead\n",
            "\n",
            "See the caveats in the documentation: https://pandas.pydata.org/pandas-docs/stable/user_guide/indexing.html#returning-a-view-versus-a-copy\n",
            "  This is separate from the ipykernel package so we can avoid doing imports until\n",
            "/usr/local/lib/python3.7/dist-packages/ipykernel_launcher.py:4: SettingWithCopyWarning: \n",
            "A value is trying to be set on a copy of a slice from a DataFrame.\n",
            "Try using .loc[row_indexer,col_indexer] = value instead\n",
            "\n",
            "See the caveats in the documentation: https://pandas.pydata.org/pandas-docs/stable/user_guide/indexing.html#returning-a-view-versus-a-copy\n",
            "  after removing the cwd from sys.path.\n",
            "/usr/local/lib/python3.7/dist-packages/ipykernel_launcher.py:5: SettingWithCopyWarning: \n",
            "A value is trying to be set on a copy of a slice from a DataFrame.\n",
            "Try using .loc[row_indexer,col_indexer] = value instead\n",
            "\n",
            "See the caveats in the documentation: https://pandas.pydata.org/pandas-docs/stable/user_guide/indexing.html#returning-a-view-versus-a-copy\n",
            "  \"\"\"\n",
            "/usr/local/lib/python3.7/dist-packages/ipykernel_launcher.py:6: SettingWithCopyWarning: \n",
            "A value is trying to be set on a copy of a slice from a DataFrame.\n",
            "Try using .loc[row_indexer,col_indexer] = value instead\n",
            "\n",
            "See the caveats in the documentation: https://pandas.pydata.org/pandas-docs/stable/user_guide/indexing.html#returning-a-view-versus-a-copy\n",
            "  \n",
            "/usr/local/lib/python3.7/dist-packages/ipykernel_launcher.py:7: SettingWithCopyWarning: \n",
            "A value is trying to be set on a copy of a slice from a DataFrame.\n",
            "Try using .loc[row_indexer,col_indexer] = value instead\n",
            "\n",
            "See the caveats in the documentation: https://pandas.pydata.org/pandas-docs/stable/user_guide/indexing.html#returning-a-view-versus-a-copy\n",
            "  import sys\n"
          ]
        }
      ],
      "source": [
        "# Formatting the tags column in order to do exact word matching\n",
        "#df_meta_16=df_meta_16[:15000] # for easiness of processing\n",
        "df_meta_16['tags'] = df_meta_16['tags'].apply(str.lower)\n",
        "df_meta_16['tags'] = df_meta_16['tags'].apply(str.replace, args=(';',' ',))\n",
        "df_meta_16['tags'] = df_meta_16['tags'].apply(str.replace, args=(',',' ',))\n",
        "df_meta_16['tags'] = df_meta_16['tags'].apply(str.replace, args=('(',' ',))\n",
        "df_meta_16['tags'] = df_meta_16['tags'].apply(str.replace, args=(')',' ',))\n",
        "df_meta_16['tags'] = df_meta_16['tags'].apply(str.replace, args=('&',' ',))\n",
        "df_meta_16['tags'] = df_meta_16['tags'].apply(str.replace, args=('|',' ',))\n",
        "df_meta_16['tags'] = df_meta_16['tags'].apply(str.split)"
      ]
    },
    {
      "cell_type": "code",
      "execution_count": 7,
      "metadata": {
        "colab": {
          "base_uri": "https://localhost:8080/",
          "height": 582
        },
        "id": "JH37WLaBnD-G",
        "outputId": "53b64a72-2169-42ce-e4c9-2a572d01f1a1"
      },
      "outputs": [
        {
          "output_type": "execute_result",
          "data": {
            "text/plain": [
              "   index categories                channel_id                  crawl_date  \\\n",
              "0    185  Education  UCzWrhkg9eK5I8Bm3HfV-unA  2019-10-31 20:19:36.933325   \n",
              "1   2658      Music  UCzWfqsjlvzAOUozsGFR3kbg  2019-10-31 15:42:09.015401   \n",
              "2   3862      Music  UCzWdpFOflXTOk5Gsi2aJ67g  2019-11-13 21:46:41.215349   \n",
              "3   3863      Music  UCzWdpFOflXTOk5Gsi2aJ67g  2019-11-13 21:46:41.849022   \n",
              "4   3864      Music  UCzWdpFOflXTOk5Gsi2aJ67g  2019-11-13 21:46:42.494555   \n",
              "\n",
              "   dislike_count   display_id  duration  like_count  \\\n",
              "0            3.0  jCaqrZ8gSkY       116        11.0   \n",
              "1           28.0  WVapFh7cx3M       142       184.0   \n",
              "2            0.0  Qr8sptZ2vyA       266        25.0   \n",
              "3            8.0  ZA5EW-DKS6M       473       188.0   \n",
              "4            2.0  bXlmyO-iW8g       192        35.0   \n",
              "\n",
              "                                                tags          upload_date  \\\n",
              "0  [learn, colors, kids, colors, colors, kids, co...  2016-05-03 00:00:00   \n",
              "1  [en, av, oss, one, of, us, project, gutteromme...  2016-06-06 00:00:00   \n",
              "2  [atis, freivalds, paradox, scary, music, dark,...  2016-12-27 00:00:00   \n",
              "3  [psionic, asylum, mental, jail, scary, music, ...  2016-12-26 00:00:00   \n",
              "4  [clau, m, dioxin, creepy, msuic, epic, horror,...  2016-11-06 00:00:00   \n",
              "\n",
              "   view_count  \n",
              "0      2720.0  \n",
              "1      4360.0  \n",
              "2       697.0  \n",
              "3     10387.0  \n",
              "4      1702.0  "
            ],
            "text/html": [
              "\n",
              "  <div id=\"df-8762f0bf-d1e2-4393-81a0-7dc848242726\">\n",
              "    <div class=\"colab-df-container\">\n",
              "      <div>\n",
              "<style scoped>\n",
              "    .dataframe tbody tr th:only-of-type {\n",
              "        vertical-align: middle;\n",
              "    }\n",
              "\n",
              "    .dataframe tbody tr th {\n",
              "        vertical-align: top;\n",
              "    }\n",
              "\n",
              "    .dataframe thead th {\n",
              "        text-align: right;\n",
              "    }\n",
              "</style>\n",
              "<table border=\"1\" class=\"dataframe\">\n",
              "  <thead>\n",
              "    <tr style=\"text-align: right;\">\n",
              "      <th></th>\n",
              "      <th>index</th>\n",
              "      <th>categories</th>\n",
              "      <th>channel_id</th>\n",
              "      <th>crawl_date</th>\n",
              "      <th>dislike_count</th>\n",
              "      <th>display_id</th>\n",
              "      <th>duration</th>\n",
              "      <th>like_count</th>\n",
              "      <th>tags</th>\n",
              "      <th>upload_date</th>\n",
              "      <th>view_count</th>\n",
              "    </tr>\n",
              "  </thead>\n",
              "  <tbody>\n",
              "    <tr>\n",
              "      <th>0</th>\n",
              "      <td>185</td>\n",
              "      <td>Education</td>\n",
              "      <td>UCzWrhkg9eK5I8Bm3HfV-unA</td>\n",
              "      <td>2019-10-31 20:19:36.933325</td>\n",
              "      <td>3.0</td>\n",
              "      <td>jCaqrZ8gSkY</td>\n",
              "      <td>116</td>\n",
              "      <td>11.0</td>\n",
              "      <td>[learn, colors, kids, colors, colors, kids, co...</td>\n",
              "      <td>2016-05-03 00:00:00</td>\n",
              "      <td>2720.0</td>\n",
              "    </tr>\n",
              "    <tr>\n",
              "      <th>1</th>\n",
              "      <td>2658</td>\n",
              "      <td>Music</td>\n",
              "      <td>UCzWfqsjlvzAOUozsGFR3kbg</td>\n",
              "      <td>2019-10-31 15:42:09.015401</td>\n",
              "      <td>28.0</td>\n",
              "      <td>WVapFh7cx3M</td>\n",
              "      <td>142</td>\n",
              "      <td>184.0</td>\n",
              "      <td>[en, av, oss, one, of, us, project, gutteromme...</td>\n",
              "      <td>2016-06-06 00:00:00</td>\n",
              "      <td>4360.0</td>\n",
              "    </tr>\n",
              "    <tr>\n",
              "      <th>2</th>\n",
              "      <td>3862</td>\n",
              "      <td>Music</td>\n",
              "      <td>UCzWdpFOflXTOk5Gsi2aJ67g</td>\n",
              "      <td>2019-11-13 21:46:41.215349</td>\n",
              "      <td>0.0</td>\n",
              "      <td>Qr8sptZ2vyA</td>\n",
              "      <td>266</td>\n",
              "      <td>25.0</td>\n",
              "      <td>[atis, freivalds, paradox, scary, music, dark,...</td>\n",
              "      <td>2016-12-27 00:00:00</td>\n",
              "      <td>697.0</td>\n",
              "    </tr>\n",
              "    <tr>\n",
              "      <th>3</th>\n",
              "      <td>3863</td>\n",
              "      <td>Music</td>\n",
              "      <td>UCzWdpFOflXTOk5Gsi2aJ67g</td>\n",
              "      <td>2019-11-13 21:46:41.849022</td>\n",
              "      <td>8.0</td>\n",
              "      <td>ZA5EW-DKS6M</td>\n",
              "      <td>473</td>\n",
              "      <td>188.0</td>\n",
              "      <td>[psionic, asylum, mental, jail, scary, music, ...</td>\n",
              "      <td>2016-12-26 00:00:00</td>\n",
              "      <td>10387.0</td>\n",
              "    </tr>\n",
              "    <tr>\n",
              "      <th>4</th>\n",
              "      <td>3864</td>\n",
              "      <td>Music</td>\n",
              "      <td>UCzWdpFOflXTOk5Gsi2aJ67g</td>\n",
              "      <td>2019-11-13 21:46:42.494555</td>\n",
              "      <td>2.0</td>\n",
              "      <td>bXlmyO-iW8g</td>\n",
              "      <td>192</td>\n",
              "      <td>35.0</td>\n",
              "      <td>[clau, m, dioxin, creepy, msuic, epic, horror,...</td>\n",
              "      <td>2016-11-06 00:00:00</td>\n",
              "      <td>1702.0</td>\n",
              "    </tr>\n",
              "  </tbody>\n",
              "</table>\n",
              "</div>\n",
              "      <button class=\"colab-df-convert\" onclick=\"convertToInteractive('df-8762f0bf-d1e2-4393-81a0-7dc848242726')\"\n",
              "              title=\"Convert this dataframe to an interactive table.\"\n",
              "              style=\"display:none;\">\n",
              "        \n",
              "  <svg xmlns=\"http://www.w3.org/2000/svg\" height=\"24px\"viewBox=\"0 0 24 24\"\n",
              "       width=\"24px\">\n",
              "    <path d=\"M0 0h24v24H0V0z\" fill=\"none\"/>\n",
              "    <path d=\"M18.56 5.44l.94 2.06.94-2.06 2.06-.94-2.06-.94-.94-2.06-.94 2.06-2.06.94zm-11 1L8.5 8.5l.94-2.06 2.06-.94-2.06-.94L8.5 2.5l-.94 2.06-2.06.94zm10 10l.94 2.06.94-2.06 2.06-.94-2.06-.94-.94-2.06-.94 2.06-2.06.94z\"/><path d=\"M17.41 7.96l-1.37-1.37c-.4-.4-.92-.59-1.43-.59-.52 0-1.04.2-1.43.59L10.3 9.45l-7.72 7.72c-.78.78-.78 2.05 0 2.83L4 21.41c.39.39.9.59 1.41.59.51 0 1.02-.2 1.41-.59l7.78-7.78 2.81-2.81c.8-.78.8-2.07 0-2.86zM5.41 20L4 18.59l7.72-7.72 1.47 1.35L5.41 20z\"/>\n",
              "  </svg>\n",
              "      </button>\n",
              "      \n",
              "  <style>\n",
              "    .colab-df-container {\n",
              "      display:flex;\n",
              "      flex-wrap:wrap;\n",
              "      gap: 12px;\n",
              "    }\n",
              "\n",
              "    .colab-df-convert {\n",
              "      background-color: #E8F0FE;\n",
              "      border: none;\n",
              "      border-radius: 50%;\n",
              "      cursor: pointer;\n",
              "      display: none;\n",
              "      fill: #1967D2;\n",
              "      height: 32px;\n",
              "      padding: 0 0 0 0;\n",
              "      width: 32px;\n",
              "    }\n",
              "\n",
              "    .colab-df-convert:hover {\n",
              "      background-color: #E2EBFA;\n",
              "      box-shadow: 0px 1px 2px rgba(60, 64, 67, 0.3), 0px 1px 3px 1px rgba(60, 64, 67, 0.15);\n",
              "      fill: #174EA6;\n",
              "    }\n",
              "\n",
              "    [theme=dark] .colab-df-convert {\n",
              "      background-color: #3B4455;\n",
              "      fill: #D2E3FC;\n",
              "    }\n",
              "\n",
              "    [theme=dark] .colab-df-convert:hover {\n",
              "      background-color: #434B5C;\n",
              "      box-shadow: 0px 1px 3px 1px rgba(0, 0, 0, 0.15);\n",
              "      filter: drop-shadow(0px 1px 2px rgba(0, 0, 0, 0.3));\n",
              "      fill: #FFFFFF;\n",
              "    }\n",
              "  </style>\n",
              "\n",
              "      <script>\n",
              "        const buttonEl =\n",
              "          document.querySelector('#df-8762f0bf-d1e2-4393-81a0-7dc848242726 button.colab-df-convert');\n",
              "        buttonEl.style.display =\n",
              "          google.colab.kernel.accessAllowed ? 'block' : 'none';\n",
              "\n",
              "        async function convertToInteractive(key) {\n",
              "          const element = document.querySelector('#df-8762f0bf-d1e2-4393-81a0-7dc848242726');\n",
              "          const dataTable =\n",
              "            await google.colab.kernel.invokeFunction('convertToInteractive',\n",
              "                                                     [key], {});\n",
              "          if (!dataTable) return;\n",
              "\n",
              "          const docLinkHtml = 'Like what you see? Visit the ' +\n",
              "            '<a target=\"_blank\" href=https://colab.research.google.com/notebooks/data_table.ipynb>data table notebook</a>'\n",
              "            + ' to learn more about interactive tables.';\n",
              "          element.innerHTML = '';\n",
              "          dataTable['output_type'] = 'display_data';\n",
              "          await google.colab.output.renderOutput(dataTable, element);\n",
              "          const docLink = document.createElement('div');\n",
              "          docLink.innerHTML = docLinkHtml;\n",
              "          element.appendChild(docLink);\n",
              "        }\n",
              "      </script>\n",
              "    </div>\n",
              "  </div>\n",
              "  "
            ]
          },
          "metadata": {},
          "execution_count": 7
        }
      ],
      "source": [
        "df_meta_16.head()"
      ]
    },
    {
      "cell_type": "code",
      "execution_count": 9,
      "metadata": {
        "colab": {
          "base_uri": "https://localhost:8080/"
        },
        "id": "tpN6LxhvnD-I",
        "outputId": "3e6d8d8a-8d94-4e62-f6e1-a82bb68ad5ee"
      },
      "outputs": [
        {
          "output_type": "stream",
          "name": "stdout",
          "text": [
            "['ceramics' 'draw' 'draw in' 'drawing' 'drawings' 'paint' 'painter'\n",
            " 'painting' 'paintings' 'sculpt' 'sculptor' 'sculpture' 'sculptures'\n",
            " 'statue' 'statues' 'statuary' 'fresco' 'printmaking' 'linoleum'\n",
            " 'linocut ' 'design' 'designs' 'designer' 'designers' 'craft' 'crafts'\n",
            " 'photography' 'film-making' 'architect' 'architecture' 'architectures'\n",
            " 'maquette' 'maquettes' 'pottery' 'potteries' 'earthenware' 'earthenwares'\n",
            " 'terracotta' 'vase' 'vases' 'clayware' 'mosaic' 'mosaics' 'carve'\n",
            " 'carving' 'motifs' 'sketching' 'sketchings' 'sketched' 'doodle' 'doodles'\n",
            " 'doodling' 'dooodlings' 'acrylic' 'acrylic paint' 'oil paint'\n",
            " 'spray paint' 'artwork' 'artworks' 'photojournalism' 'aperture'\n",
            " 'exposure']\n",
            "['literatures' 'writing' 'text' 'texts' 'poetry' 'prose' 'assonance'\n",
            " 'alliteration' 'rhythm' 'poem' 'poems' 'novel' 'novels' 'romance'\n",
            " 'novella' 'drama' 'theatre' 'article' 'articles' 'biography'\n",
            " 'biographies' 'essay' 'essays' 'pamphlet' 'abstract' 'book' 'books'\n",
            " 'letter' 'letters' 'writings' 'literacy' 'writer' 'writers' 'poete'\n",
            " 'dictionary' 'dictionaries' 'journal' 'journals' 'textbook' 'textbooks'\n",
            " 'dissertation' 'dissertations' 'philosophy' 'anthropology' 'written'\n",
            " 'article' 'articles' 'romanticism' 'bibliography' 'novelist' 'novelists'\n",
            " 'tragedy' 'theater' 'manga' 'mangas' 'author' 'athors' 'theatre'\n",
            " 'magazine' 'magazines' 'poetic' 'dramatic' 'epic' 'literary']\n",
            "['dance' 'music' 'theatres' 'dances' 'musics' 'audience' 'speech'\n",
            " 'spectacle' 'spectacles' 'dialogue' 'dialogues' 'theater' 'theaters'\n",
            " 'opera' 'operas' 'ballet' 'ballets' 'mime' 'mimes' 'kabuki' 'pantomime'\n",
            " 'choregraphy' 'choregraphies' 'sing' 'singing' 'sang' 'sung'\n",
            " 'choregrapher' 'choregraphers' 'singer' 'instrument' 'instruments'\n",
            " 'actor' 'actors' 'comedian' 'comedians' 'dancer' 'dancers' 'circus'\n",
            " 'acting' 'costume' 'choral' 'chorals' 'troupe' 'troupes' 'musician'\n",
            " 'musicians' 'concert' 'concerts' 'orchestra' 'orchestras' 'kathakali'\n",
            " 'virtuoso' 'virtuosos' 'illusionist' 'illusionists' 'songwritting'\n",
            " 'performing' 'interpret' 'interprets' 'interpreted' 'oratory'\n",
            " 'playacting' 'conservatory' 'musicals' 'conservatorium' 'amphitheater'\n",
            " 'cabaret' 'museum' 'museums']\n"
          ]
        }
      ],
      "source": [
        "# Words of Visual Arts\n",
        "words_path_visual = \"visual_arts.txt\"\n",
        "words_path_literary = \"literary_art.txt\"\n",
        "words_path_performing = \"performing_art.txt\"\n",
        "\n",
        "\n",
        "visual_arts = pd.read_csv(words_path_visual)\n",
        "literary_arts = pd.read_csv(words_path_literary)\n",
        "performing_arts = pd.read_csv(words_path_performing)\n",
        "\n",
        "visual_words = visual_arts.values\n",
        "literary_words = literary_arts.values\n",
        "performing_words = performing_arts.values\n",
        "\n",
        "visual_words = visual_words.flatten()\n",
        "literary_words = literary_words.flatten()\n",
        "performing_words = performing_words.flatten()\n",
        "\n",
        "print(visual_words)\n",
        "print(literary_words)\n",
        "print(performing_words)"
      ]
    },
    {
      "cell_type": "code",
      "execution_count": 10,
      "metadata": {
        "id": "ZsNmVxCmnD-L"
      },
      "outputs": [],
      "source": [
        "def check_tags_in_list(tags, word_list):\n",
        "    word_present = 0\n",
        "    \n",
        "    # Make sets from the list of words\n",
        "    x = set(tags)\n",
        "    y = set(word_list)\n",
        "    \n",
        "    # Use intersection function of set type to quickly find which word are in both lists/sets\n",
        "    z = x.intersection(y)\n",
        "    \n",
        "    # If the intersection is larger than 0, then there is at least a common word between both sets \n",
        "    if len(z) > 0:\n",
        "        word_present = 1\n",
        "    return word_present"
      ]
    },
    {
      "cell_type": "code",
      "execution_count": 11,
      "metadata": {
        "id": "z_FPflpwnD-N"
      },
      "outputs": [],
      "source": [
        "df_meta_16['visual_art'] = df_meta_16['tags'].apply(lambda x : check_tags_in_list(x, visual_words))\n",
        "df_meta_16['literary_art'] = df_meta_16['tags'].apply(lambda x : check_tags_in_list(x, literary_words))\n",
        "df_meta_16['performing_art'] = df_meta_16['tags'].apply(lambda x : check_tags_in_list(x, performing_words))"
      ]
    },
    {
      "cell_type": "code",
      "execution_count": null,
      "metadata": {
        "id": "DU_pbpGhnD-P",
        "outputId": "34f66ca1-c57c-4bae-ea41-4fb309c17782"
      },
      "outputs": [
        {
          "data": {
            "text/plain": [
              "0    3980941\n",
              "1     149469\n",
              "Name: visual_art, dtype: int64"
            ]
          },
          "execution_count": 19,
          "metadata": {},
          "output_type": "execute_result"
        }
      ],
      "source": [
        "df_meta_16.visual_art.value_counts()"
      ]
    },
    {
      "cell_type": "code",
      "execution_count": 12,
      "metadata": {
        "colab": {
          "base_uri": "https://localhost:8080/",
          "height": 380
        },
        "id": "OXNmWVbknD-R",
        "outputId": "db8379b8-4929-4148-fa82-c26d3155d7ef"
      },
      "outputs": [
        {
          "output_type": "display_data",
          "data": {
            "text/plain": [
              "<Figure size 432x288 with 1 Axes>"
            ],
            "image/png": "[encoded data removed]"
          },
          "metadata": {
            "needs_background": "light"
          }
        }
      ],
      "source": [
        "non_art_df = df_meta_16[(df_meta_16.visual_art==0) & (df_meta_16.literary_art==0) & (df_meta_16.performing_art==0)]\n",
        "\n",
        "plt.figure()\n",
        "non_art_df.categories.value_counts().plot(kind='bar')\n",
        "plt.title(\"Category distribution of non-artistic videos\")\n",
        "plt.show()"
      ]
    },
    {
      "cell_type": "code",
      "execution_count": 13,
      "metadata": {
        "colab": {
          "base_uri": "https://localhost:8080/",
          "height": 380
        },
        "id": "vjt9oosanD-T",
        "outputId": "9b0a9982-35cc-421c-9916-208826389d9b"
      },
      "outputs": [
        {
          "output_type": "display_data",
          "data": {
            "text/plain": [
              "<Figure size 432x288 with 1 Axes>"
            ],
            "image/png": "[encoded data removed]"
          },
          "metadata": {
            "needs_background": "light"
          }
        }
      ],
      "source": [
        "art_df = df_meta_16[~df_meta_16.isin(non_art_df)].dropna()\n",
        "\n",
        "plt.figure()\n",
        "art_df.categories.value_counts().plot(kind='bar')\n",
        "plt.title(\"Category distribution of artistic videos\")\n",
        "plt.show()"
      ]
    },
    {
      "cell_type": "code",
      "execution_count": 25,
      "metadata": {
        "colab": {
          "base_uri": "https://localhost:8080/"
        },
        "id": "H40GP-KRnD-U",
        "outputId": "f32d5564-9830-4383-dcd0-837cdbcb646f"
      },
      "outputs": [
        {
          "output_type": "execute_result",
          "data": {
            "text/plain": [
              "1.0    4884\n",
              "0.0     817\n",
              "Name: performing_art, dtype: int64"
            ]
          },
          "metadata": {},
          "execution_count": 25
        }
      ],
      "source": [
        "art_df.performing_art.value_counts()"
      ]
    },
    {
      "cell_type": "markdown",
      "source": [
        "Using Venn diagram, we can see the distribution of types of art in defined artistic category, as well as see videos with two or all three tags"
      ],
      "metadata": {
        "id": "Q0tzH6Wh0fhw"
      }
    },
    {
      "cell_type": "code",
      "source": [
        "from matplotlib_venn import venn3\n",
        "\n",
        "vis = art_df[(art_df['visual_art'] == 1)] \n",
        "lit = art_df[(art_df['literary_art'] == 1)]\n",
        "perf = art_df[(art_df['performing_art'] == 1)]\n",
        "\n",
        "plt.figure(figsize=(10,10))\n",
        "set1 = set(vis['index'])\n",
        "set2 = set(lit['index'])\n",
        "set3 = set(perf['index'])\n",
        "\n",
        "venn3([set1, set2, set3], ['visual art', 'literary art', 'performing art'])\n",
        "\n",
        "plt.show()"
      ],
      "metadata": {
        "colab": {
          "base_uri": "https://localhost:8080/",
          "height": 575
        },
        "id": "BGSi1omnw8qK",
        "outputId": "b50e1c63-37f6-40f2-f1fd-f55f124a1fd3"
      },
      "execution_count": 28,
      "outputs": [
        {
          "output_type": "display_data",
          "data": {
            "text/plain": [
              "<Figure size 720x720 with 1 Axes>"
            ],
            "image/png": "[encoded data removed]"
          },
          "metadata": {}
        }
      ]
    },
    {
      "cell_type": "markdown",
      "source": [
        "Check if there is a consistency of uploading artistic videos or if there are some patterns"
      ],
      "metadata": {
        "id": "Tpa4kuG20tnD"
      }
    },
    {
      "cell_type": "code",
      "source": [
        "# Convert upload date to only date format\n",
        "df_meta_16['upload_date'] = pd.to_datetime(df_meta_16['upload_date'], format='%Y-%m-%d').dt.date\n",
        "art_df['upload_date'] = pd.to_datetime(art_df['upload_date'], format='%Y-%m-%d').dt.date"
      ],
      "metadata": {
        "id": "WTsHX1IEpmoe"
      },
      "execution_count": 39,
      "outputs": []
    },
    {
      "cell_type": "code",
      "source": [
        "all_art_vid_count_year = art_df.groupby(\"upload_date\").count().channel_id\n",
        "vis_art_vid_count_year = art_df[art_df.visual_art==1].groupby(\"upload_date\").count().channel_id\n",
        "lit_art_vid_count_year = art_df[art_df.literary_art==1].groupby(\"upload_date\").count().channel_id\n",
        "perf_art_vid_count_year = art_df[art_df.performing_art==1].groupby(\"upload_date\").count().channel_id\n",
        "\n",
        "plt.figure(figsize=(12,12))\n",
        "plt.plot(all_art_vid_count_year, label=\"All artistic videos\")\n",
        "plt.plot(vis_art_vid_count_year, label=\"Visual art videos\")\n",
        "plt.plot(lit_art_vid_count_year, label=\"Literary art videos\")\n",
        "plt.plot(perf_art_vid_count_year, label=\"Performing art videos\")\n",
        "plt.legend()\n",
        "plt.title('Posting frequency of art videos over the year')\n",
        "plt.xlabel('Date')\n",
        "plt.ylabel('Number of videos')\n",
        "plt.show()\n"
      ],
      "metadata": {
        "colab": {
          "base_uri": "https://localhost:8080/",
          "height": 730
        },
        "id": "KRUv8n-XttHF",
        "outputId": "63d2278e-d7b0-46d2-dc04-3674ee45bd29"
      },
      "execution_count": 58,
      "outputs": [
        {
          "output_type": "display_data",
          "data": {
            "text/plain": [
              "<Figure size 864x864 with 1 Axes>"
            ],
            "image/png": "[encoded data removed]"
          },
          "metadata": {
            "needs_background": "light"
          }
        }
      ]
    },
    {
      "cell_type": "code",
      "source": [
        "#plt.figure(figsize=(15,15))\n",
        "#sns.heatmap()\n",
        "#plt.title(\"Posting of artistic videos over a year \")\n",
        "#plt.xlabel('Months')\n",
        "#plt.ylabel('Number of posted videos')\n",
        "#plt.show()"
      ],
      "metadata": {
        "id": "-4V2Qytsqc_C"
      },
      "execution_count": null,
      "outputs": []
    }
  ],
  "metadata": {
    "kernelspec": {
      "display_name": "Python 3.8.3 ('base')",
      "language": "python",
      "name": "python3"
    },
    "language_info": {
      "codemirror_mode": {
        "name": "ipython",
        "version": 3
      },
      "file_extension": ".py",
      "mimetype": "text/x-python",
      "name": "python",
      "nbconvert_exporter": "python",
      "pygments_lexer": "ipython3",
      "version": "3.8.3"
    },
    "vscode": {
      "interpreter": {
        "hash": "2a20f6e962d21c25833da9b809e5c0df84feebccecfeb73d42e86a99965dab71"
      }
    },
    "colab": {
      "provenance": []
    }
  },
  "nbformat": 4,
  "nbformat_minor": 0
}